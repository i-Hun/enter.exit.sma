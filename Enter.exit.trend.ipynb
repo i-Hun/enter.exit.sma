{
 "cells": [
  {
   "cell_type": "markdown",
   "metadata": {},
   "source": [
    "# Стратегия входа и выхода по SMA (200)  \n",
    "\n",
    "* 200-дневная средняя SМА(200) разделяет бычий и медвежий рынок.\n",
    "* Если цена актива над SМА(200), то он в бычьем тренде, если под - в медвежьем.\n",
    "* Стратегия входа и выхода по SМА(200) предполагает, что мы открываем позицию при закреплении цены над МА(200) в течение n дней и закрываем позицию при закреплении цены над МА(200) в течение n дней.\n",
    "* Приведенный ниже код позволяет протестировать данную стратегию на quantopian.com."
   ]
  },
  {
   "cell_type": "code",
   "execution_count": null,
   "metadata": {
    "collapsed": true
   },
   "outputs": [],
   "source": [
    "# Импортирует библиотеку talib для построения скользящей средней. \n",
    "import talib\n",
    "\n",
    "\n",
    "def initialize(context):\n",
    "    \"\"\"\n",
    "    Создаем функцию initialize(context) для начала работы.\n",
    "    Указываем нужный тикер актива через свойство context.security.\n",
    "    Создаем функцию schedule_function(), в которой проверяем актив каждый день, через 1 час после открытия рынка.\n",
    "    Указываем нужное число дней нахождения цены актива относительно SMA(200).\n",
    "    \"\"\"\n",
    "    context.security = symbol('SPY')\n",
    "    schedule_function(rebalance, date_rules.every_day(), time_rules.market_open(hours=1))\n",
    "    context.days = 5\n",
    "\n",
    "    \n",
    "def rebalance(context, data):\n",
    "    \"\"\"\n",
    "    Создаем функцию rebalance(context, data).\n",
    "    Здесь проверяются сигналы.\n",
    "    \"\"\"\n",
    "    # Получения истории цен закрытия актива за последние 500 дней.\n",
    "    hist = data.history(context.security, ['high', 'low', 'close'], 500, '1d')\n",
    "    \n",
    "    # Строим на основе talib простую скользящую SMA по ценам закрытия за 200 дней.\n",
    "    # Создаем переменную spread, чтобы узнать положение цены относительно SMA(200) days дней назад.    \n",
    "    ma_long = talib.SMA(hist['close'], timeperiod=200)\n",
    "    spread = (hist['close'] - ma_long)[-context.days:]\n",
    "     \n",
    "    # Задаем условия для открытия или закрытия позиции.\n",
    "    # Если цена находится над SMA(200) days дней, открываем позицию.  \n",
    "    # Если цена находится под SMA(200) days дней, закрываем позицию.\n",
    "    # Выводим соответствующие уведомления в quantopian.com с помощью метода log.info().    \n",
    "    if len(spread[spread > 0]) == context.days:\n",
    "        order_target_percent(context.security, 1.)\n",
    "        log.info('Buying shares')\n",
    "\n",
    "    elif len(spread[spread < 0]) == context.days:\n",
    "        order_target_percent(context.security, 0.)\n",
    "        log.info('Selling shares')\n",
    "        \n",
    "    # Подписываем график тестирования на quantopian.com.        \n",
    "    record(SMA=ma_long[-1], price=hist['close'][-1])\n"
   ]
  },
  {
   "cell_type": "markdown",
   "metadata": {},
   "source": [
    "# Код стратегии без комментариев"
   ]
  },
  {
   "cell_type": "code",
   "execution_count": null,
   "metadata": {
    "collapsed": true
   },
   "outputs": [],
   "source": [
    "import talib\n",
    "\n",
    "\n",
    "def initialize(context):\n",
    "    context.security = symbol('QQQ')\n",
    "    schedule_function(rebalance, date_rules.every_day(), time_rules.market_open(hours=1))\n",
    "    context.days = 5\n",
    "  \n",
    "\n",
    "def rebalance(context, data):\n",
    "    hist = data.history(context.security, ['close'], 500, '1d')\n",
    "    ma_long = talib.SMA(hist['close'], timeperiod=200)\n",
    "    \n",
    "    spread = (hist['close'] - ma_long)[-context.days:]\n",
    "    \n",
    "    if len(spread[spread > 0]) == context.days:\n",
    "        order_target_percent(context.security, 1.)\n",
    "        log.info('Buying shares')\n",
    "\n",
    "    elif len(spread[spread < 0]) == context.days:\n",
    "        order_target_percent(context.security, 0.)\n",
    "        log.info('Selling shares')\n",
    "        \n",
    "    record(SMA=ma_long[-1], price=hist['close'][-1])"
   ]
  },
  {
   "cell_type": "markdown",
   "metadata": {},
   "source": [
    "# Стратегия входа и выхода по пересечению SMA (200) и SMA (50)\n",
    "\n",
    "* Пересечение 50-дневной средней SМА(50) относительно 200-дневной SМА(200) является сигналом смены тенденции.\n",
    "* Если SМА(50) пересекает SМА(200) снизу вверх, то тренд с медвежьего сменился на бычий.\n",
    "* Если SМА(50) пересекает SМА(200) сверху вниз, то тренд с бычьего сменилмя на медвежий.\n",
    "* Стратегия входа и выхода по пересечению SMA (200) и MA (50) предполагает, \n",
    "* что мы открываем позицию при входе актива в бычий тренд и закрываем - при входе смене тендеции на медвежью. \n",
    "* Приведенный ниже код позволяет протестировать данную стратегию на quantopian.com."
   ]
  },
  {
   "cell_type": "code",
   "execution_count": null,
   "metadata": {
    "collapsed": true
   },
   "outputs": [],
   "source": [
    "# Импортирует библиотеку talib для построения скользящей средней. \n",
    "import talib\n",
    "\n",
    "\n",
    "def initialize(context):\n",
    "    \"\"\"\n",
    "    Создаем функцию initialize(context) для начала работы.\n",
    "    Указываем нужный тикер актива через свойство context.security.\n",
    "    Создаем функцию schedule_function(), в которой проверяем актив каждый день, \n",
    "    через 1 час после открытия рынка.\n",
    "    \"\"\"\n",
    "    context.security = symbol('SPY')\n",
    "    schedule_function(rebalance, date_rules.every_day(), time_rules.market_open(hours=1))\n",
    "\n",
    "    \n",
    "def rebalance(context, data):\n",
    "    \"\"\"\n",
    "    Создаем функцию rebalance(context, data) для получения истории цен закрытия \n",
    "    актива за последние 500 дней.\n",
    "    Строим с помощью talib простые скользящие средние SMA по ценам закрытия \n",
    "    за 50 и 200 дней и получаем их последние значения с помощью индекса [-1].\n",
    "    \"\"\"\n",
    "    hist = data.history(context.security, ['close'], 500, '1d')\n",
    "    \n",
    "    ma_short = talib.SMA(hist['close'], timeperiod=50)[-1]  \n",
    "    ma_long = talib.SMA(hist['close'], timeperiod=200)[-1]\n",
    "\n",
    "    # Задаем условия для открытия или закрытия позиции.\n",
    "    # Если SMA(500) находится над SMA(200), открываем позицию.  \n",
    "    # Если SMA(500) находится под SMA(200), закрываем позицию.\n",
    "    # Выводим соответствующие уведомления в quantopian.com с помощью метода log.info().\n",
    "    if (ma_short > ma_long):\n",
    "        order_target_percent(context.security, 1.)\n",
    "        log.info('Buying shares')\n",
    "\n",
    "    elif (ma_short < ma_long):\n",
    "        order_target_percent(context.security, 0.)\n",
    "        log.info('Selling shares')\n",
    "        \n",
    "    # Подписываем график тестирования на quantopian.com.         \n",
    "    record(MA1=ma_short, MA2=ma_long, price=hist['close'][-1])"
   ]
  },
  {
   "cell_type": "markdown",
   "metadata": {},
   "source": [
    "# Код стратегии без комментариев"
   ]
  },
  {
   "cell_type": "code",
   "execution_count": null,
   "metadata": {
    "collapsed": true
   },
   "outputs": [],
   "source": [
    "import talib\n",
    "\n",
    "\n",
    "def initialize(context):\n",
    "    context.security = symbol('SPY')\n",
    "    schedule_function(rebalance, date_rules.every_day(), time_rules.market_open(hours=1))\n",
    "\n",
    "    \n",
    "def rebalance(context, data):\n",
    "    hist = data.history(context.security, ['close'], 500, '1d')\n",
    "    \n",
    "    ma_short = talib.SMA(hist['close'], timeperiod=50)[-1]  \n",
    "    ma_long = talib.SMA(hist['close'], timeperiod=200)[-1]\n",
    "\n",
    "    if (ma_short > ma_long):\n",
    "        order_target_percent(context.security, 1.)\n",
    "        log.info('Buying shares')\n",
    "\n",
    "    elif (ma_short < ma_long):\n",
    "        order_target_percent(context.security, 0.)\n",
    "        log.info('Selling shares')\n",
    "        \n",
    "    record(MA1=ma_short, MA2=ma_long, price=hist['close'][-1])"
   ]
  },
  {
   "cell_type": "markdown",
   "metadata": {},
   "source": [
    "# Стратегия \"Купи и держи\""
   ]
  },
  {
   "cell_type": "code",
   "execution_count": null,
   "metadata": {
    "collapsed": true
   },
   "outputs": [],
   "source": [
    "import talib\n",
    "\n",
    "\n",
    "def initialize(context):\n",
    "    context.security = symbol('SPY')\n",
    "    \n",
    "    schedule_function(rebalance_buy, date_rules.every_day(), time_rules.market_open(hours=1))\n",
    "\n",
    "    \n",
    "def rebalance_buy(context, data):\n",
    "    order_target_percent(context.security, 1.) "
   ]
  }
 ],
 "metadata": {
  "kernelspec": {
   "display_name": "Python 3",
   "language": "python",
   "name": "python3"
  },
  "language_info": {
   "codemirror_mode": {
    "name": "ipython",
    "version": 3
   },
   "file_extension": ".py",
   "mimetype": "text/x-python",
   "name": "python",
   "nbconvert_exporter": "python",
   "pygments_lexer": "ipython3",
   "version": "3.6.0"
  }
 },
 "nbformat": 4,
 "nbformat_minor": 2
}
